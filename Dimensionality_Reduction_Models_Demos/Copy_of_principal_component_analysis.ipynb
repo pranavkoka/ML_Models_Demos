{
  "nbformat": 4,
  "nbformat_minor": 0,
  "metadata": {
    "colab": {
      "provenance": []
    },
    "kernelspec": {
      "name": "python3",
      "display_name": "Python 3"
    }
  },
  "cells": [
    {
      "cell_type": "markdown",
      "metadata": {
        "id": "VQ3syspj_rKn"
      },
      "source": [
        "# Principal Component Analysis (PCA)"
      ]
    },
    {
      "cell_type": "markdown",
      "metadata": {
        "id": "xJGl9TcT_skx"
      },
      "source": [
        "## Importing the libraries"
      ]
    },
    {
      "cell_type": "code",
      "metadata": {
        "id": "BNEgrGwd_29D"
      },
      "source": [
        "import numpy as np\n",
        "import pandas as pd\n",
        "import matplotlib.pyplot as plt"
      ],
      "execution_count": null,
      "outputs": []
    },
    {
      "cell_type": "markdown",
      "metadata": {
        "id": "Hyp1gza1_6qX"
      },
      "source": [
        "## Importing the dataset"
      ]
    },
    {
      "cell_type": "code",
      "metadata": {
        "id": "lPLTDBVI__ZQ"
      },
      "source": [
        "dataset = pd.read_csv('/content/Wine.csv')\n",
        "X = dataset.iloc[:, :-1].values\n",
        "y = dataset.iloc[:, -1].values"
      ],
      "execution_count": null,
      "outputs": []
    },
    {
      "cell_type": "markdown",
      "metadata": {
        "id": "3bUhSHktAcOe"
      },
      "source": [
        "## Splitting the dataset into the Training set and Test set"
      ]
    },
    {
      "cell_type": "code",
      "metadata": {
        "id": "L7hGLt1qAced"
      },
      "source": [
        "from sklearn.model_selection import train_test_split\n",
        "X_train, X_test, y_train, y_test = train_test_split(X, y, test_size = 0.2, random_state = 1)"
      ],
      "execution_count": null,
      "outputs": []
    },
    {
      "cell_type": "markdown",
      "metadata": {
        "id": "1wrHODfJAEiI"
      },
      "source": [
        "## Feature Scaling"
      ]
    },
    {
      "cell_type": "code",
      "metadata": {
        "id": "W-UCD7ezAJG2"
      },
      "source": [
        "from sklearn.preprocessing import StandardScaler\n",
        "sc = StandardScaler()\n",
        "X_train = sc.fit_transform(X_train)\n",
        "X_test = sc.transform(X_test)"
      ],
      "execution_count": null,
      "outputs": []
    },
    {
      "cell_type": "markdown",
      "metadata": {
        "id": "S3i3lRiwASAX"
      },
      "source": [
        "## Applying PCA"
      ]
    },
    {
      "cell_type": "code",
      "metadata": {
        "id": "TAi_sSw9AVzI"
      },
      "source": [
        "from sklearn.decomposition import PCA\n",
        "pca = PCA(n_components = 2)\n",
        "X_train = pca.fit_transform(X_train)\n",
        "X_test = pca.transform(X_test)"
      ],
      "execution_count": null,
      "outputs": []
    },
    {
      "cell_type": "markdown",
      "metadata": {
        "id": "UBx16JVLAuel"
      },
      "source": [
        "## Training the Logistic Regression model on the Training set"
      ]
    },
    {
      "cell_type": "code",
      "source": [
        "from sklearn.linear_model import LogisticRegression\n",
        "classifier = LogisticRegression(random_state = 0)\n",
        "classifier.fit(X_train, y_train)"
      ],
      "metadata": {
        "colab": {
          "base_uri": "https://localhost:8080/",
          "height": 74
        },
        "id": "INf0OYiH16s_",
        "outputId": "e94fc825-adcd-4ad3-d92b-7d9d880822ef"
      },
      "execution_count": null,
      "outputs": [
        {
          "output_type": "execute_result",
          "data": {
            "text/plain": [
              "LogisticRegression(random_state=0)"
            ],
            "text/html": [
              "<style>#sk-container-id-6 {color: black;background-color: white;}#sk-container-id-6 pre{padding: 0;}#sk-container-id-6 div.sk-toggleable {background-color: white;}#sk-container-id-6 label.sk-toggleable__label {cursor: pointer;display: block;width: 100%;margin-bottom: 0;padding: 0.3em;box-sizing: border-box;text-align: center;}#sk-container-id-6 label.sk-toggleable__label-arrow:before {content: \"▸\";float: left;margin-right: 0.25em;color: #696969;}#sk-container-id-6 label.sk-toggleable__label-arrow:hover:before {color: black;}#sk-container-id-6 div.sk-estimator:hover label.sk-toggleable__label-arrow:before {color: black;}#sk-container-id-6 div.sk-toggleable__content {max-height: 0;max-width: 0;overflow: hidden;text-align: left;background-color: #f0f8ff;}#sk-container-id-6 div.sk-toggleable__content pre {margin: 0.2em;color: black;border-radius: 0.25em;background-color: #f0f8ff;}#sk-container-id-6 input.sk-toggleable__control:checked~div.sk-toggleable__content {max-height: 200px;max-width: 100%;overflow: auto;}#sk-container-id-6 input.sk-toggleable__control:checked~label.sk-toggleable__label-arrow:before {content: \"▾\";}#sk-container-id-6 div.sk-estimator input.sk-toggleable__control:checked~label.sk-toggleable__label {background-color: #d4ebff;}#sk-container-id-6 div.sk-label input.sk-toggleable__control:checked~label.sk-toggleable__label {background-color: #d4ebff;}#sk-container-id-6 input.sk-hidden--visually {border: 0;clip: rect(1px 1px 1px 1px);clip: rect(1px, 1px, 1px, 1px);height: 1px;margin: -1px;overflow: hidden;padding: 0;position: absolute;width: 1px;}#sk-container-id-6 div.sk-estimator {font-family: monospace;background-color: #f0f8ff;border: 1px dotted black;border-radius: 0.25em;box-sizing: border-box;margin-bottom: 0.5em;}#sk-container-id-6 div.sk-estimator:hover {background-color: #d4ebff;}#sk-container-id-6 div.sk-parallel-item::after {content: \"\";width: 100%;border-bottom: 1px solid gray;flex-grow: 1;}#sk-container-id-6 div.sk-label:hover label.sk-toggleable__label {background-color: #d4ebff;}#sk-container-id-6 div.sk-serial::before {content: \"\";position: absolute;border-left: 1px solid gray;box-sizing: border-box;top: 0;bottom: 0;left: 50%;z-index: 0;}#sk-container-id-6 div.sk-serial {display: flex;flex-direction: column;align-items: center;background-color: white;padding-right: 0.2em;padding-left: 0.2em;position: relative;}#sk-container-id-6 div.sk-item {position: relative;z-index: 1;}#sk-container-id-6 div.sk-parallel {display: flex;align-items: stretch;justify-content: center;background-color: white;position: relative;}#sk-container-id-6 div.sk-item::before, #sk-container-id-6 div.sk-parallel-item::before {content: \"\";position: absolute;border-left: 1px solid gray;box-sizing: border-box;top: 0;bottom: 0;left: 50%;z-index: -1;}#sk-container-id-6 div.sk-parallel-item {display: flex;flex-direction: column;z-index: 1;position: relative;background-color: white;}#sk-container-id-6 div.sk-parallel-item:first-child::after {align-self: flex-end;width: 50%;}#sk-container-id-6 div.sk-parallel-item:last-child::after {align-self: flex-start;width: 50%;}#sk-container-id-6 div.sk-parallel-item:only-child::after {width: 0;}#sk-container-id-6 div.sk-dashed-wrapped {border: 1px dashed gray;margin: 0 0.4em 0.5em 0.4em;box-sizing: border-box;padding-bottom: 0.4em;background-color: white;}#sk-container-id-6 div.sk-label label {font-family: monospace;font-weight: bold;display: inline-block;line-height: 1.2em;}#sk-container-id-6 div.sk-label-container {text-align: center;}#sk-container-id-6 div.sk-container {/* jupyter's `normalize.less` sets `[hidden] { display: none; }` but bootstrap.min.css set `[hidden] { display: none !important; }` so we also need the `!important` here to be able to override the default hidden behavior on the sphinx rendered scikit-learn.org. See: https://github.com/scikit-learn/scikit-learn/issues/21755 */display: inline-block !important;position: relative;}#sk-container-id-6 div.sk-text-repr-fallback {display: none;}</style><div id=\"sk-container-id-6\" class=\"sk-top-container\"><div class=\"sk-text-repr-fallback\"><pre>LogisticRegression(random_state=0)</pre><b>In a Jupyter environment, please rerun this cell to show the HTML representation or trust the notebook. <br />On GitHub, the HTML representation is unable to render, please try loading this page with nbviewer.org.</b></div><div class=\"sk-container\" hidden><div class=\"sk-item\"><div class=\"sk-estimator sk-toggleable\"><input class=\"sk-toggleable__control sk-hidden--visually\" id=\"sk-estimator-id-6\" type=\"checkbox\" checked><label for=\"sk-estimator-id-6\" class=\"sk-toggleable__label sk-toggleable__label-arrow\">LogisticRegression</label><div class=\"sk-toggleable__content\"><pre>LogisticRegression(random_state=0)</pre></div></div></div></div></div>"
            ]
          },
          "metadata": {},
          "execution_count": 37
        }
      ]
    },
    {
      "cell_type": "markdown",
      "metadata": {
        "id": "MTck416XBPnD"
      },
      "source": [
        "## Making the Confusion Matrix"
      ]
    },
    {
      "cell_type": "code",
      "source": [
        "from sklearn.metrics import confusion_matrix, accuracy_score\n",
        "y_pred = classifier.predict(X_test)\n",
        "cm = confusion_matrix(y_test, y_pred)\n",
        "print(cm)\n",
        "accuracy_score(y_test, y_pred)"
      ],
      "metadata": {
        "colab": {
          "base_uri": "https://localhost:8080/"
        },
        "id": "pysBGsSK19d9",
        "outputId": "194ba7c5-ba51-44e3-8482-a47de21a447d"
      },
      "execution_count": null,
      "outputs": [
        {
          "output_type": "stream",
          "name": "stdout",
          "text": [
            "[[14  0  0]\n",
            " [ 1 12  0]\n",
            " [ 0  0  9]]\n"
          ]
        },
        {
          "output_type": "execute_result",
          "data": {
            "text/plain": [
              "0.9722222222222222"
            ]
          },
          "metadata": {},
          "execution_count": 38
        }
      ]
    },
    {
      "cell_type": "markdown",
      "metadata": {
        "id": "h6pZMBrUBXwb"
      },
      "source": [
        "## Visualising the Training set results"
      ]
    },
    {
      "cell_type": "code",
      "source": [
        "from matplotlib.colors import ListedColormap\n",
        "X_set, y_set = X_train, y_train\n",
        "X1, X2 = np.meshgrid(np.arange(start = X_set[:, 0].min() - 1, stop = X_set[:, 0].max() + 1, step = 0.01),\n",
        "                     np.arange(start = X_set[:, 1].min() - 1, stop = X_set[:, 1].max() + 1, step = 0.01))\n",
        "plt.contourf(X1, X2, classifier.predict(np.array([X1.ravel(), X2.ravel()]).T).reshape(X1.shape),\n",
        "             alpha = 0.75, cmap = ListedColormap(('red', 'green', 'blue')))\n",
        "plt.xlim(X1.min(), X1.max())\n",
        "plt.ylim(X2.min(), X2.max())\n",
        "for i, j in enumerate(np.unique(y_set)):\n",
        "    plt.scatter(X_set[y_set == j, 0], X_set[y_set == j, 1],\n",
        "                c = ListedColormap(('red', 'green', 'blue'))(i), label = j)\n",
        "plt.title('Logistic Regression (Training set)')\n",
        "plt.xlabel('PC1')\n",
        "plt.ylabel('PC2')\n",
        "plt.legend()\n",
        "plt.show()"
      ],
      "metadata": {
        "colab": {
          "base_uri": "https://localhost:8080/",
          "height": 527
        },
        "id": "CUGEcCT72dJ3",
        "outputId": "4d900798-004a-4314-d6c4-e2e091d8414c"
      },
      "execution_count": null,
      "outputs": [
        {
          "output_type": "stream",
          "name": "stderr",
          "text": [
            "<ipython-input-39-97c5a7ed0f37>:10: UserWarning: *c* argument looks like a single numeric RGB or RGBA sequence, which should be avoided as value-mapping will have precedence in case its length matches with *x* & *y*.  Please use the *color* keyword-argument or provide a 2D array with a single row if you intend to specify the same RGB or RGBA value for all points.\n",
            "  plt.scatter(X_set[y_set == j, 0], X_set[y_set == j, 1],\n"
          ]
        },
        {
          "output_type": "display_data",
          "data": {
            "text/plain": [
              "<Figure size 640x480 with 1 Axes>"
            ],
            "image/png": "[encoded data removed]"
          },
          "metadata": {}
        }
      ]
    },
    {
      "cell_type": "markdown",
      "metadata": {
        "id": "-Dbzx_KqBguX"
      },
      "source": [
        "## Visualising the Test set results"
      ]
    },
    {
      "cell_type": "code",
      "source": [
        "from matplotlib.colors import ListedColormap\n",
        "X_set, y_set = X_test, y_test\n",
        "X1, X2 = np.meshgrid(np.arange(start = X_set[:, 0].min() - 1, stop = X_set[:, 0].max() + 1, step = 0.01),\n",
        "                     np.arange(start = X_set[:, 1].min() - 1, stop = X_set[:, 1].max() + 1, step = 0.01))\n",
        "plt.contourf(X1, X2, classifier.predict(np.array([X1.ravel(), X2.ravel()]).T).reshape(X1.shape),\n",
        "             alpha = 0.75, cmap = ListedColormap(('red', 'green', 'blue')))\n",
        "plt.xlim(X1.min(), X1.max())\n",
        "plt.ylim(X2.min(), X2.max())\n",
        "for i, j in enumerate(np.unique(y_set)):\n",
        "    plt.scatter(X_set[y_set == j, 0], X_set[y_set == j, 1],\n",
        "                c = ListedColormap(('red', 'green', 'blue'))(i), label = j)\n",
        "plt.title('Logistic Regression (Test set)')\n",
        "plt.xlabel('PC1')\n",
        "plt.ylabel('PC2')\n",
        "plt.legend()\n",
        "plt.show()"
      ],
      "metadata": {
        "colab": {
          "base_uri": "https://localhost:8080/",
          "height": 527
        },
        "id": "nyuusx3U2hJa",
        "outputId": "62a36ad8-8713-4b42-c622-78a0c1613b17"
      },
      "execution_count": null,
      "outputs": [
        {
          "output_type": "stream",
          "name": "stderr",
          "text": [
            "<ipython-input-40-dcbaaf9cb35d>:10: UserWarning: *c* argument looks like a single numeric RGB or RGBA sequence, which should be avoided as value-mapping will have precedence in case its length matches with *x* & *y*.  Please use the *color* keyword-argument or provide a 2D array with a single row if you intend to specify the same RGB or RGBA value for all points.\n",
            "  plt.scatter(X_set[y_set == j, 0], X_set[y_set == j, 1],\n"
          ]
        },
        {
          "output_type": "display_data",
          "data": {
            "text/plain": [
              "<Figure size 640x480 with 1 Axes>"
            ],
            "image/png": "[encoded data removed]"
          },
          "metadata": {}
        }
      ]
    },
    {
      "cell_type": "code",
      "source": [
        "X_train"
      ],
      "metadata": {
        "colab": {
          "base_uri": "https://localhost:8080/"
        },
        "id": "RSSyP35_5Pww",
        "outputId": "4aa4800f-96fb-4998-d40b-085e0b4a9f8a"
      },
      "execution_count": null,
      "outputs": [
        {
          "output_type": "execute_result",
          "data": {
            "text/plain": [
              "array([[ 1.45106785,  1.85914043],\n",
              "       [-1.16342695,  1.41297331],\n",
              "       [ 0.34393861,  1.93870926],\n",
              "       [-2.07390734, -1.34699026],\n",
              "       [-2.23752594, -1.19567755],\n",
              "       [ 0.7828473 ,  3.0422216 ],\n",
              "       [ 3.43658215, -0.77277023],\n",
              "       [-2.62885478, -1.98362772],\n",
              "       [-2.80963595, -1.6148153 ],\n",
              "       [-2.20232818, -0.08703376],\n",
              "       [-1.31986145,  0.49139954],\n",
              "       [-1.97911028, -1.83895989],\n",
              "       [-3.61043285, -2.64964226],\n",
              "       [-3.2259453 , -1.87544577],\n",
              "       [ 1.47273339,  1.2067983 ],\n",
              "       [ 2.41322827, -2.10176234],\n",
              "       [ 2.72253833, -1.49073541],\n",
              "       [-2.21048357, -0.73591746],\n",
              "       [ 1.22981038,  2.13708256],\n",
              "       [-2.59662572, -0.57316588],\n",
              "       [-2.28538266, -0.79400766],\n",
              "       [-1.14029108,  1.4207965 ],\n",
              "       [ 2.97735484, -0.31157243],\n",
              "       [-2.34420508,  1.84502004],\n",
              "       [ 0.29998197,  0.63284081],\n",
              "       [-1.97134055, -1.75622297],\n",
              "       [ 2.87846692, -1.45084492],\n",
              "       [ 0.40424353,  2.67636222],\n",
              "       [ 3.07957409,  0.29560768],\n",
              "       [-3.49667734, -1.22010861],\n",
              "       [ 0.23737414,  2.1574701 ],\n",
              "       [-1.2576631 , -1.87767574],\n",
              "       [-0.89970236,  2.28471158],\n",
              "       [-1.49231796, -0.75242762],\n",
              "       [ 3.58819777, -0.71855615],\n",
              "       [ 2.3386701 , -2.53886618],\n",
              "       [ 2.11655553, -2.05173216],\n",
              "       [ 2.60596472, -2.77487973],\n",
              "       [ 2.29312559,  1.32299794],\n",
              "       [ 0.72585968,  2.42011849],\n",
              "       [-1.22425063, -0.30532515],\n",
              "       [ 3.26421458, -2.11242824],\n",
              "       [-2.60390905, -1.14896656],\n",
              "       [ 1.4640849 ,  0.80683649],\n",
              "       [ 2.48461806, -0.70199326],\n",
              "       [-2.5273457 , -1.28913972],\n",
              "       [-0.91150053,  1.94217707],\n",
              "       [-3.37797943, -1.68897326],\n",
              "       [ 3.76479433, -0.05565105],\n",
              "       [ 1.30907056,  1.29978205],\n",
              "       [-1.00080883,  0.71055616],\n",
              "       [-2.54704691, -1.49813538],\n",
              "       [-1.53218762,  2.13062475],\n",
              "       [ 0.96689193,  1.80100439],\n",
              "       [ 0.01123292,  1.10284359],\n",
              "       [-2.82665841, -1.30247024],\n",
              "       [-0.14426337,  1.23227335],\n",
              "       [-1.98896711,  1.16362638],\n",
              "       [ 1.84170482,  1.586006  ],\n",
              "       [ 2.33921578, -2.35128068],\n",
              "       [ 0.10265364,  2.75976279],\n",
              "       [ 0.39618401,  2.17443143],\n",
              "       [-0.05780086,  2.08339334],\n",
              "       [-1.54406003,  1.25043937],\n",
              "       [-3.56414469, -1.45787795],\n",
              "       [-1.51562953, -0.81922141],\n",
              "       [-1.71156748, -0.17168922],\n",
              "       [ 2.52068167, -0.591434  ],\n",
              "       [-1.62288287,  0.67114524],\n",
              "       [ 2.43963729,  0.15249742],\n",
              "       [ 2.67894684, -0.43395857],\n",
              "       [ 3.14506071, -2.65379388],\n",
              "       [-1.35543303, -0.00442203],\n",
              "       [-0.94815094,  2.2875128 ],\n",
              "       [-1.77963394,  0.42530764],\n",
              "       [ 0.5131416 ,  2.65061405],\n",
              "       [-0.32943116,  2.43105499],\n",
              "       [-2.84062274, -0.89163528],\n",
              "       [ 2.24014559, -2.36809862],\n",
              "       [-0.53187828,  2.03958217],\n",
              "       [ 1.0220859 ,  0.63708911],\n",
              "       [ 2.82040967, -0.22232122],\n",
              "       [ 2.72021027, -2.08424806],\n",
              "       [ 0.39874204,  2.36945563],\n",
              "       [-2.3805157 ,  1.36875584],\n",
              "       [ 0.11926059,  1.91824887],\n",
              "       [ 2.82849052, -1.15286851],\n",
              "       [ 1.06278603, -3.46872186],\n",
              "       [ 0.47885698,  1.88490198],\n",
              "       [-2.40154097, -1.76547798],\n",
              "       [ 0.35076294,  2.40500762],\n",
              "       [-0.80910278, -0.2089866 ],\n",
              "       [ 2.24561545, -0.40684302],\n",
              "       [-1.71167469,  1.36098753],\n",
              "       [-0.90973066,  3.34472654],\n",
              "       [-3.59088678, -1.76581498],\n",
              "       [-1.8900712 , -0.76430183],\n",
              "       [-0.47592792,  2.13857629],\n",
              "       [-0.59128212, -0.39625754],\n",
              "       [-1.88178812,  0.2287239 ],\n",
              "       [-3.82791441, -2.93453453],\n",
              "       [ 2.80945873, -2.00913704],\n",
              "       [-2.76934533, -1.87526511],\n",
              "       [ 2.2588611 , -0.34979114],\n",
              "       [ 2.26371866, -2.53591194],\n",
              "       [-2.58035366, -1.34164215],\n",
              "       [-1.46786878, -0.3760007 ],\n",
              "       [-0.63193202,  3.85292629],\n",
              "       [ 3.51571859, -1.70995835],\n",
              "       [-2.57380844, -1.01686769],\n",
              "       [ 1.42538487,  1.35902226],\n",
              "       [ 0.35858287,  1.90046614],\n",
              "       [-2.33449166,  0.21017017],\n",
              "       [-2.28222589, -1.3016012 ],\n",
              "       [-2.64797328, -0.05029854],\n",
              "       [ 1.7373947 ,  0.83280427],\n",
              "       [-2.18822543,  1.89837139],\n",
              "       [-2.15998642, -1.79108085],\n",
              "       [ 2.51108491, -1.71504541],\n",
              "       [ 2.16976948, -0.33565634],\n",
              "       [ 0.67932913,  2.22789586],\n",
              "       [ 0.40425972,  0.20072188],\n",
              "       [ 0.71289592,  0.14195627],\n",
              "       [-3.29536769, -0.26713448],\n",
              "       [ 2.86817935, -0.42733875],\n",
              "       [ 3.29539356, -1.26282768],\n",
              "       [ 2.82072945, -1.80932282],\n",
              "       [ 2.25219057, -0.26678119],\n",
              "       [ 4.15648867, -0.49065408],\n",
              "       [ 0.42368943,  2.24573849],\n",
              "       [-3.19678328, -1.00459746],\n",
              "       [-1.08782274, -1.09282469],\n",
              "       [ 2.28735985,  0.49842514],\n",
              "       [-1.7755648 ,  0.96351785],\n",
              "       [ 1.62168851,  1.20300749],\n",
              "       [ 2.08783154, -1.18328795],\n",
              "       [-0.51672944,  0.97388534],\n",
              "       [ 2.00001677, -0.34619017],\n",
              "       [ 3.79951869, -0.56012047],\n",
              "       [ 0.60278404,  1.07267568],\n",
              "       [ 2.66258996, -0.25271424],\n",
              "       [-1.24174808, -0.18142054]])"
            ]
          },
          "metadata": {},
          "execution_count": 45
        }
      ]
    }
  ]
}